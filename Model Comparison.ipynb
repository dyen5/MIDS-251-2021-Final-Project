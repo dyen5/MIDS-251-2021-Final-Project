{
 "cells": [
  {
   "cell_type": "markdown",
   "metadata": {},
   "source": [
    "## Libraries"
   ]
  },
  {
   "cell_type": "code",
   "execution_count": 3,
   "metadata": {},
   "outputs": [],
   "source": [
    "# General\n",
    "from __future__ import print_function, division\n",
    "import numpy as np\n",
    "import pandas as pd\n",
    "import time\n",
    "import os\n",
    "import pickle\n",
    "\n",
    "# Graphs\n",
    "import matplotlib.pyplot as plt\n",
    "import seaborn as sns\n",
    "\n",
    "# Pytorch\n",
    "import torch\n",
    "import torch.nn as nn\n",
    "import torch.optim as optim\n",
    "from torch.optim import lr_scheduler\n",
    "import torchvision\n",
    "from torchvision import datasets, models, transforms\n",
    "from torch.utils.data import TensorDataset, DataLoader, RandomSampler\n",
    "import torch.nn.functional as F\n",
    "\n",
    "# Metrics\n",
    "from sklearn.metrics import classification_report, precision_recall_curve\n",
    "from sklearn.metrics import confusion_matrix, average_precision_score\n",
    "\n",
    "# Tracking progress\n",
    "from tqdm import tqdm\n",
    "\n",
    "# Set Seed\n",
    "torch.manual_seed(2021)\n",
    "\n",
    "plt.ion()   # interactive mode\n",
    "\n",
    "# To GPU\n",
    "device = torch.device(\"cuda:0\" if torch.cuda.is_available() else \"cpu\")"
   ]
  },
  {
   "cell_type": "markdown",
   "metadata": {},
   "source": [
    "## Load Data\n",
    "\n",
    "Note that each model was trained on data of a different format.  The baseline CNN was trained on images as numpy files and ResNet18 was trained on PIL images.  The test data are identical."
   ]
  },
  {
   "cell_type": "code",
   "execution_count": 10,
   "metadata": {},
   "outputs": [],
   "source": [
    "# For Baseline CNN\n",
    "folder = '/home/ubuntu/numpy-files/'\n",
    "batch_size = 150\n",
    "\n",
    "test_X = np.load(folder +'test_X.npy')\n",
    "test_y = np.load(folder +'test_y.npy')\n",
    "\n",
    "test_X = test_X.reshape(len(test_X), 1, 256, 256)\n",
    "\n",
    "test_seq_CNN = torch.from_numpy(test_X).float()\n",
    "test_y_CNN = torch.tensor(test_y).type(torch.LongTensor)\n",
    "\n",
    "test_data_CNN = TensorDataset(test_seq_CNN, test_y_CNN)\n",
    "test_sampler_CNN = RandomSampler(test_data_CNN)\n",
    "test_dataloader_CNN = DataLoader(test_data_CNN, sampler=test_sampler_CNN, batch_size=batch_size)"
   ]
  },
  {
   "cell_type": "code",
   "execution_count": 11,
   "metadata": {},
   "outputs": [],
   "source": [
    "# For SqueezeNet and ResNet18\n",
    "data_transforms = {\n",
    "    'test': transforms.Compose([\n",
    "        transforms.Resize(256),\n",
    "        transforms.CenterCrop(224),\n",
    "        transforms.ToTensor(),\n",
    "        transforms.Normalize([0.485, 0.456, 0.406], [0.229, 0.224, 0.225])\n",
    "    ]),\n",
    "}\n",
    "\n",
    "data_dir = '/home/ubuntu/data/2A_images_reorg'\n",
    "image_datasets = {x: datasets.ImageFolder(os.path.join(data_dir, x),\n",
    "                                          data_transforms[x])\n",
    "                  for x in ['test']}\n",
    "        \n",
    "dataloaders = {x: torch.utils.data.DataLoader(image_datasets[x], batch_size=4,\n",
    "                                             shuffle=True, num_workers=4)\n",
    "              for x in ['test']}\n",
    "        \n",
    "dataset_sizes = {x: len(image_datasets[x]) for x in ['test']}\n",
    "class_names = image_datasets['test'].classes"
   ]
  },
  {
   "cell_type": "markdown",
   "metadata": {},
   "source": [
    "## Load Models"
   ]
  },
  {
   "cell_type": "code",
   "execution_count": 12,
   "metadata": {},
   "outputs": [],
   "source": [
    "class CNN(nn.Module):\n",
    "\n",
    "    def __init__(self,\n",
    "                 filter_sizes,\n",
    "                 num_filters,\n",
    "                 fc1_neurons,\n",
    "                 fc2_neurons):\n",
    "\n",
    "        super(CNN, self).__init__()\n",
    "\n",
    "        # Conv Network\n",
    "        self.conv2d_list = nn.ModuleList([\n",
    "            nn.Conv2d(in_channels=1,\n",
    "                      out_channels=num_filters[i],\n",
    "                      kernel_size=filter_sizes[i])\n",
    "            for i in range(len(filter_sizes))\n",
    "        ])\n",
    "\n",
    "        # RELU activation function\n",
    "        self.relu =  nn.ReLU()\n",
    "\n",
    "        # Fully-connected layers\n",
    "        self.fc1 = nn.Linear(np.sum(num_filters), fc1_neurons)\n",
    "\n",
    "        if fc2_neurons != None:\n",
    "\n",
    "            # print('fc2=None')\n",
    "\n",
    "            self.fc2 = nn.Linear(fc1_neurons, fc2_neurons)\n",
    "\n",
    "            self.fc3 = nn.Linear(fc2_neurons, 3)\n",
    "\n",
    "        else:\n",
    "\n",
    "            self.fc2 = nn.Linear(fc1_neurons, 3)\n",
    "\n",
    "        #softmax activation function\n",
    "        self.softmax = nn.LogSoftmax(dim=1)\n",
    "\n",
    "    def forward(self, inputs):\n",
    "\n",
    "        # Apply CNN and ReLU.\n",
    "        x_conv_list = [self.relu(conv2d(inputs)) for conv2d in self.conv2d_list]\n",
    "\n",
    "\n",
    "\n",
    "        # Max pooling.\n",
    "        x_pool_list = [F.max_pool2d(x_conv, kernel_size=x_conv.shape[2])\n",
    "            for x_conv in x_conv_list]\n",
    "\n",
    "        # print(x_pool_list[0].shape)\n",
    "        # print(x_pool_list[0].squeeze(32).shape)\n",
    "        # print(x_pool_list[0].squeeze(3).shape)\n",
    "        # Concatenate x_pool_list to feed the fully connected layer.\n",
    "        x_fc = torch.cat([x_pool.squeeze(2).squeeze(2) for x_pool in x_pool_list],\n",
    "                         dim=1)\n",
    "\n",
    "        x = self.fc1(x_fc)\n",
    "        x = self.relu(x)\n",
    "\n",
    "        x = self.fc2(x)\n",
    "\n",
    "        try:\n",
    "            if self.fc3 != None:\n",
    "\n",
    "                x = self.relu(x)\n",
    "                x = self.fc3(x)\n",
    "\n",
    "        except:\n",
    "            pass\n",
    "\n",
    "\n",
    "        probs = self.softmax(x)\n",
    "\n",
    "        return probs\n",
    "    \n",
    "# Model Initializiation\n",
    "CNN_Model = CNN(filter_sizes = [2, 3, 4], \n",
    "                num_filters = [25,25,25],\n",
    "                fc1_neurons = 200,\n",
    "                fc2_neurons = 50\n",
    "                )"
   ]
  },
  {
   "cell_type": "code",
   "execution_count": 23,
   "metadata": {},
   "outputs": [
    {
     "name": "stderr",
     "output_type": "stream",
     "text": [
      "Downloading: \"https://download.pytorch.org/models/squeezenet1_0-a815701f.pth\" to /home/ubuntu/.cache/torch/hub/checkpoints/squeezenet1_0-a815701f.pth\n"
     ]
    },
    {
     "data": {
      "application/vnd.jupyter.widget-view+json": {
       "model_id": "92d8472533604203a1cbacd75e318d62",
       "version_major": 2,
       "version_minor": 0
      },
      "text/plain": [
       "HBox(children=(FloatProgress(value=0.0, max=5017600.0), HTML(value='')))"
      ]
     },
     "metadata": {},
     "output_type": "display_data"
    },
    {
     "name": "stdout",
     "output_type": "stream",
     "text": [
      "\n"
     ]
    }
   ],
   "source": [
    "# Load pretratined model into SqueezeNet_1.0\n",
    "SQN_Model = models.squeezenet1_0(pretrained=True)\n",
    "num_classes = 3\n",
    "SQN_Model.classifier[1] = nn.Conv2d(512, num_classes, kernel_size=(1,1), stride=(1,1))\n",
    "SQN_Model.num_classes = num_classes"
   ]
  },
  {
   "cell_type": "code",
   "execution_count": 25,
   "metadata": {},
   "outputs": [],
   "source": [
    "# Load pretratined model into resnet18\n",
    "RN18_Model = models.resnet18(pretrained=True)\n",
    "num_ftrs = RN18_Model.fc.in_features\n",
    "RN18_Model.fc = nn.Linear(num_ftrs, 3)"
   ]
  },
  {
   "cell_type": "markdown",
   "metadata": {},
   "source": [
    "## Load Weights"
   ]
  },
  {
   "cell_type": "code",
   "execution_count": 26,
   "metadata": {},
   "outputs": [],
   "source": [
    "# Baseline CNN\n",
    "PATH1 = '/home/ubuntu/MIDS-251-2021-Final-Project/CNN/CNN_Weights_Run_1'\n",
    "CNN_Model.load_state_dict(torch.load(PATH1))\n",
    "CNN_Model = CNN_Model.to(device)\n",
    "\n",
    "# SqueezeNet\n",
    "PATH2 = '/home/ubuntu/MIDS-251-2021-Final-Project/SqueezeNet/SqueezeNet_weights_full'\n",
    "SQN_Model.load_state_dict(torch.load(PATH2))\n",
    "SQN_Model = SQN_Model.to(device)\n",
    "\n",
    "# ResNet18\n",
    "PATH3 = '/home/ubuntu/MIDS-251-2021-Final-Project/ResNet18/ResNet18_weights_full'\n",
    "RN18_Model.load_state_dict(torch.load(PATH3))\n",
    "RN18_Model = RN18_Model.to(device)"
   ]
  },
  {
   "cell_type": "markdown",
   "metadata": {},
   "source": [
    "## Load Prediction Functions"
   ]
  },
  {
   "cell_type": "code",
   "execution_count": 27,
   "metadata": {},
   "outputs": [],
   "source": [
    "def evaluate_CNN(model, val_dataloader):\n",
    "    \"\"\"After the completion of each training epoch, measure the model's\n",
    "    performance on our validation set.\n",
    "    \"\"\"\n",
    "    # Put the model into the evaluation mode. The dropout layers are disabled\n",
    "    # during the test time.\n",
    "    model.eval()\n",
    "\n",
    "    # Tracking variables\n",
    "    #val_accuracy = []\n",
    "    #val_loss = []\n",
    "    total_probs = []\n",
    "    total_preds = []\n",
    "    total_labels = []\n",
    "\n",
    "    # For each batch in our validation set...\n",
    "    for batch in val_dataloader:\n",
    "        # Load batch to CPU\n",
    "        data, labels = tuple(t.to(device) for t in batch)\n",
    "\n",
    "        # Compute logits\n",
    "        with torch.no_grad():\n",
    "            probs = model(data)\n",
    "            \n",
    "        total_probs.append(probs)\n",
    "\n",
    "        # Compute loss\n",
    "        #loss = cross_entropy(probs, labels)\n",
    "        #val_loss.append(loss.item())\n",
    "\n",
    "        # Get the predictions\n",
    "        preds = torch.argmax(probs, dim=1).flatten()\n",
    "        total_preds.append(preds)\n",
    "        total_labels.append(labels)\n",
    "\n",
    "        # Calculate the accuracy rate\n",
    "        #accuracy = (preds == labels).cpu().numpy().mean() * 100\n",
    "        #val_accuracy.append(accuracy)\n",
    "\n",
    "    # Compute the average accuracy and loss over the validation set.\n",
    "    #val_loss = np.mean(val_loss)\n",
    "    #val_accuracy = np.mean(val_accuracy)\n",
    "\n",
    "    #return val_loss, val_accuracy, total_probs, total_preds, total_labels\n",
    "    return total_probs, total_preds, total_labels"
   ]
  },
  {
   "cell_type": "code",
   "execution_count": 28,
   "metadata": {},
   "outputs": [],
   "source": [
    "def visualize_model(model, pred_images=6):\n",
    "    was_training = model.training\n",
    "    model.eval()\n",
    "    images_so_far = 0\n",
    "    fig = plt.figure()\n",
    "    \n",
    "    eval_history = {'predict':[], 'actual':[], 'prob':[]}\n",
    "\n",
    "    with torch.no_grad():\n",
    "        for i, (inputs, labels) in enumerate(dataloaders['test']):\n",
    "            inputs = inputs.to(device)\n",
    "            labels = labels.to(device)\n",
    "\n",
    "            outputs = model(inputs)\n",
    "            _, preds = torch.max(outputs, 1)\n",
    "            prob = nn.functional.softmax(outputs, dim=1)\n",
    "\n",
    "            for j in range(inputs.size()[0]):\n",
    "                images_so_far += 1\n",
    "                if images_so_far < pred_images:\n",
    "                    eval_history['predict'].append(class_names[preds[j]])\n",
    "                    eval_history['actual'].append(class_names[labels[j]])\n",
    "                    eval_history['prob'].append(prob[j].cpu().numpy().tolist())\n",
    "                    \n",
    "                elif images_so_far == pred_images:\n",
    "                    model.train(mode=was_training)\n",
    "                    return eval_history\n",
    "        model.train(mode=was_training)"
   ]
  },
  {
   "cell_type": "markdown",
   "metadata": {},
   "source": [
    "## Prediction on Test Set"
   ]
  },
  {
   "cell_type": "code",
   "execution_count": 29,
   "metadata": {},
   "outputs": [],
   "source": [
    "# Baseline CNN\n",
    "total_probs_CNN, total_preds_CNN, \\\n",
    "total_labels_CNN = evaluate_CNN(model = CNN_Model, \n",
    "                                val_dataloader = test_dataloader_CNN)\n",
    "\n",
    "total_labels_CNN_Cat = torch.cat(total_labels_CNN).cpu().numpy()\n",
    "total_probs_CNN_Cat = torch.cat(total_probs_CNN).cpu().numpy()\n",
    "total_preds_CNN_Cat = torch.cat(total_preds_CNN).cpu().numpy()"
   ]
  },
  {
   "cell_type": "code",
   "execution_count": 30,
   "metadata": {},
   "outputs": [
    {
     "data": {
      "text/plain": [
       "<Figure size 432x288 with 0 Axes>"
      ]
     },
     "metadata": {},
     "output_type": "display_data"
    }
   ],
   "source": [
    "# SqueezeNet\n",
    "SQN_eval_history = visualize_model(SQN_Model, pred_images=dataset_sizes['test'])"
   ]
  },
  {
   "cell_type": "code",
   "execution_count": 31,
   "metadata": {},
   "outputs": [
    {
     "data": {
      "text/plain": [
       "<Figure size 432x288 with 0 Axes>"
      ]
     },
     "metadata": {},
     "output_type": "display_data"
    }
   ],
   "source": [
    "# ResNet18\n",
    "RN18_eval_history = visualize_model(RN18_Model, pred_images=dataset_sizes['test'])"
   ]
  },
  {
   "cell_type": "markdown",
   "metadata": {},
   "source": [
    "## Classification Report"
   ]
  },
  {
   "cell_type": "code",
   "execution_count": 32,
   "metadata": {},
   "outputs": [
    {
     "name": "stdout",
     "output_type": "stream",
     "text": [
      "              precision    recall  f1-score   support\n",
      "\n",
      "           0      0.932     0.955     0.943      6032\n",
      "           1      0.931     0.953     0.942      4027\n",
      "           2      0.992     0.966     0.979      9433\n",
      "\n",
      "    accuracy                          0.960     19492\n",
      "   macro avg      0.952     0.958     0.955     19492\n",
      "weighted avg      0.961     0.960     0.960     19492\n",
      "\n"
     ]
    }
   ],
   "source": [
    "# Baseline CNN\n",
    "print(classification_report(total_labels_CNN_Cat, total_preds_CNN_Cat, digits=3))"
   ]
  },
  {
   "cell_type": "code",
   "execution_count": 33,
   "metadata": {},
   "outputs": [
    {
     "name": "stdout",
     "output_type": "stream",
     "text": [
      "              precision    recall  f1-score   support\n",
      "\n",
      "       Covid      0.998     0.994     0.996      9336\n",
      "      Normal      0.994     0.999     0.996      6057\n",
      "   Pneumonia      0.993     0.994     0.994      4098\n",
      "\n",
      "    accuracy                          0.995     19491\n",
      "   macro avg      0.995     0.996     0.995     19491\n",
      "weighted avg      0.995     0.995     0.995     19491\n",
      "\n"
     ]
    }
   ],
   "source": [
    "# SqueezeNet\n",
    "print(classification_report(SQN_eval_history['actual'], SQN_eval_history['predict'], digits=3))"
   ]
  },
  {
   "cell_type": "code",
   "execution_count": 35,
   "metadata": {},
   "outputs": [
    {
     "name": "stdout",
     "output_type": "stream",
     "text": [
      "              precision    recall  f1-score   support\n",
      "\n",
      "       Covid      0.997     0.998     0.997      9335\n",
      "      Normal      0.998     0.998     0.998      6058\n",
      "   Pneumonia      0.997     0.995     0.996      4098\n",
      "\n",
      "    accuracy                          0.997     19491\n",
      "   macro avg      0.997     0.997     0.997     19491\n",
      "weighted avg      0.997     0.997     0.997     19491\n",
      "\n"
     ]
    }
   ],
   "source": [
    "# ResNet18\n",
    "print(classification_report(RN18_eval_history['actual'], RN18_eval_history['predict'], digits=3))"
   ]
  },
  {
   "cell_type": "markdown",
   "metadata": {},
   "source": [
    "## Precision-Recall"
   ]
  },
  {
   "cell_type": "markdown",
   "metadata": {},
   "source": [
    "Get the probabilities"
   ]
  },
  {
   "cell_type": "code",
   "execution_count": 36,
   "metadata": {},
   "outputs": [],
   "source": [
    "# Baseline CNN\n",
    "Normal_Prob_CNN = np.array(total_probs_CNN_Cat)[:,0]\n",
    "Pneumonia_Prob_CNN = np.array(total_probs_CNN_Cat)[:,1]\n",
    "Covid_Prob_CNN = np.array(total_probs_CNN_Cat)[:,2]"
   ]
  },
  {
   "cell_type": "code",
   "execution_count": 37,
   "metadata": {},
   "outputs": [],
   "source": [
    "# SqueezeNet\n",
    "Normal_Prob_SQN = [i[1] for i in SQN_eval_history['prob']]\n",
    "Pneumonia_Prob_SQN = [i[2] for i in SQN_eval_history['prob']]\n",
    "Covid_Prob_SQN = [i[0] for i in SQN_eval_history['prob']]"
   ]
  },
  {
   "cell_type": "code",
   "execution_count": 38,
   "metadata": {},
   "outputs": [],
   "source": [
    "# Resnet18\n",
    "Normal_Prob_RN18 = [i[1] for i in RN18_eval_history['prob']]\n",
    "Pneumonia_Prob_RN18 = [i[2] for i in RN18_eval_history['prob']]\n",
    "Covid_Prob_RN18 = [i[0] for i in RN18_eval_history['prob']]"
   ]
  },
  {
   "cell_type": "markdown",
   "metadata": {},
   "source": [
    "Calculate fraction of majority class for reference"
   ]
  },
  {
   "cell_type": "code",
   "execution_count": 39,
   "metadata": {},
   "outputs": [],
   "source": [
    "no_skill = np.max(np.unique(test_y, return_counts=True)[1]/(np.unique(test_y, return_counts=True)[1].sum()))"
   ]
  },
  {
   "cell_type": "markdown",
   "metadata": {},
   "source": [
    "Precision Recall curves for each model"
   ]
  },
  {
   "cell_type": "code",
   "execution_count": 49,
   "metadata": {},
   "outputs": [],
   "source": [
    "# Baseline CNN\n",
    "Normal_precision_CNN, Normal_recall_CNN, _ = \\\n",
    "precision_recall_curve(total_labels_CNN_Cat, Normal_Prob_CNN, pos_label=0)\n",
    "\n",
    "Pneumonia_precision_CNN, Pneumonia_recall_CNN, _ = \\\n",
    "precision_recall_curve(total_labels_CNN_Cat, Pneumonia_Prob_CNN , pos_label=1)\n",
    "\n",
    "Covid_precision_CNN, Covid_recall_CNN, _ = \\\n",
    "precision_recall_curve(total_labels_CNN_Cat, Covid_Prob_CNN, pos_label=2)"
   ]
  },
  {
   "cell_type": "code",
   "execution_count": 50,
   "metadata": {},
   "outputs": [],
   "source": [
    "# SqueezeNet\n",
    "Normal_precision_SQN, Normal_recall_SQN, _ = \\\n",
    "precision_recall_curve(SQN_eval_history['actual'], Normal_Prob_SQN, pos_label='Normal')\n",
    "\n",
    "Pneumonia_precision_SQN, Pneumonia_recall_SQN, _ = \\\n",
    "precision_recall_curve(SQN_eval_history['actual'], Pneumonia_Prob_SQN, pos_label='Pneumonia')\n",
    "\n",
    "Covid_precision_SQN, Covid_recall_SQN, _ = \\\n",
    "precision_recall_curve(SQN_eval_history['actual'], Covid_Prob_SQN, pos_label='Covid')"
   ]
  },
  {
   "cell_type": "code",
   "execution_count": 51,
   "metadata": {},
   "outputs": [],
   "source": [
    "# ResNet18\n",
    "Normal_precision_RN18, Normal_recall_RN18, _ = \\\n",
    "precision_recall_curve(RN18_eval_history['actual'], Normal_Prob_RN18, pos_label='Normal')\n",
    "\n",
    "Pneumonia_precision_RN18, Pneumonia_recall_RN18, _ = \\\n",
    "precision_recall_curve(RN18_eval_history['actual'], Pneumonia_Prob_RN18, pos_label='Pneumonia')\n",
    "\n",
    "Covid_precision_RN18, Covid_recall_RN18, _ = \\\n",
    "precision_recall_curve(RN18_eval_history['actual'], Covid_Prob_RN18, pos_label='Covid')"
   ]
  },
  {
   "cell_type": "markdown",
   "metadata": {},
   "source": [
    "Curves"
   ]
  },
  {
   "cell_type": "code",
   "execution_count": 53,
   "metadata": {},
   "outputs": [
    {
     "data": {
      "image/png": "[encoded data removed]",
      "text/plain": [
       "<Figure size 1440x360 with 3 Axes>"
      ]
     },
     "metadata": {
      "needs_background": "light"
     },
     "output_type": "display_data"
    }
   ],
   "source": [
    "# Plot precision-recall curves for all classes for each model\n",
    "fig, ax = plt.subplots(1, 3, figsize=(20,5))\n",
    "\n",
    "ax[0].plot(Normal_precision_CNN, Normal_recall_CNN, linestyle='--',  label='Baseline CNN - Diagnosis: Normal')\n",
    "ax[1].plot(Pneumonia_precision_CNN, Pneumonia_recall_CNN, linestyle='--',  label='Baseline CNN - Diagnosis: Pneumonia')\n",
    "ax[2].plot(Covid_precision_CNN, Covid_recall_CNN, linestyle='--',  label='Baseline CNN - Diagnosis: COVID-19')\n",
    "\n",
    "ax[0].plot(Normal_precision_SQN, Normal_recall_SQN, linestyle='--',  label='SqueezeNet - Diagnosis: Normal')\n",
    "ax[1].plot(Pneumonia_precision_SQN, Pneumonia_recall_SQN, linestyle='--',  label='SqueezeNet - Diagnosis: Pneumonia')\n",
    "ax[2].plot(Covid_precision_SQN, Covid_recall_SQN, linestyle='--',  label='SqueezeNet - Diagnosis: COVID-19')\n",
    "\n",
    "ax[0].plot(Normal_precision_RN18, Normal_recall_RN18, linestyle='--',  label='ResNet18 - Diagnosis: Normal')\n",
    "ax[1].plot(Pneumonia_precision_RN18, Pneumonia_recall_RN18, linestyle='--',  label='ResNet18 - Diagnosis: Pneumonia')\n",
    "ax[2].plot(Covid_precision_RN18, Covid_recall_RN18, linestyle='--',  label='ResNet18 - Diagnosis: COVID-19')\n",
    "\n",
    "ax[0].plot([0, 1], [no_skill, no_skill], linestyle='--', label='Baseline')\n",
    "ax[1].plot([0, 1], [no_skill, no_skill], linestyle='--', label='Baseline')\n",
    "ax[2].plot([0, 1], [no_skill, no_skill], linestyle='--', label='Baseline')\n",
    "\n",
    "# axis labels\n",
    "ax[0].set_xlabel('Recall', size = 15)\n",
    "ax[0].set_ylabel('Precision', size = 15)\n",
    "ax[1].set_xlabel('Recall', size = 15)\n",
    "ax[1].set_ylabel('Precision', size = 15)\n",
    "ax[2].set_xlabel('Recall', size = 15)\n",
    "ax[2].set_ylabel('Precision', size = 15)\n",
    "\n",
    "plt.title('Precision-Recall Curves')\n",
    "\n",
    "ax[0].set_xlim(0, 1)\n",
    "ax[0].set_ylim(0, 1)\n",
    "ax[1].set_xlim(0, 1)\n",
    "ax[1].set_ylim(0, 1)\n",
    "ax[2].set_xlim(0, 1)\n",
    "ax[2].set_ylim(0, 1)\n",
    "# show the legend\n",
    "ax[0].legend()\n",
    "ax[1].legend()\n",
    "ax[2].legend()\n",
    "# show the plot\n",
    "plt.show()"
   ]
  },
  {
   "cell_type": "markdown",
   "metadata": {},
   "source": [
    "## Training Metrics"
   ]
  },
  {
   "cell_type": "markdown",
   "metadata": {},
   "source": [
    "The training metrics for the ResNet18 model was not saved and are manually entered."
   ]
  },
  {
   "cell_type": "code",
   "execution_count": 159,
   "metadata": {},
   "outputs": [],
   "source": [
    "train_dict_CNN = pd.read_pickle('/home/ubuntu/MIDS-251-2021-Final-Project/trainig_dict_CNN_Run_1')\n",
    "train_dict_R18_mini = {'epoch':[], 'train loss':[], 'val loss':[], 'val acc':[]}\n",
    "train_dict_R18_full = {'epoch':[], 'train loss':[], 'val loss':[], 'val acc':[]}\n",
    "\n",
    "train_dict_R18_mini['epoch'] = np.linspace(0, 14, 15)\n",
    "train_dict_R18_mini['train loss'] = [0.6414, 0.4392, 0.3561, 0.3071, 0.2695,\n",
    "                                     0.2408, 0.2312, 0.1507, 0.1331, 0.1207,\n",
    "                                     0.1144, 0.1256, 0.1173, 0.1109, 0.1028]\n",
    "train_dict_R18_mini['val loss'] = [0.3111, 0.1142, 0.1242, 0.3281, 0.2270,\n",
    "                                   0.0956, 0.0659, 0.2649, 0.0694, 0.0603,\n",
    "                                   0.0514, 0.0499, 0.0519, 0.0586, 0.0492]\n",
    "train_dict_R18_mini['val acc'] = [0.8916, 0.966, 0.9605, 0.8776, 0.9201, \n",
    "                                  0.9701,0.9778, 0.9073, 0.9772, 0.9827, \n",
    "                                  0.9848, 0.9846, 0.9854, 0.9819, 0.9853]\n",
    "\n",
    "train_dict_R18_full['epoch'] = np.linspace(0, 14, 15)\n",
    "train_dict_R18_full['train loss'] = [0.2647, 0.1181, 0.0935, 0.0805, 0.0710, \n",
    "                                     0.0645, 0.0607, 0.0418, 0.0317, 0.0351, \n",
    "                                     0.0345, 0.0329, 0.0330, 0.0317, 0.0302]\n",
    "train_dict_R18_full['val loss'] = [0.0516, 0.0342, 0.0435, 0.0268, 0.0252,\n",
    "                                   0.0186, 0.0170, 0.0133, 0.0102, 0.0109,\n",
    "                                   0.0096, 0.0093, 0.0092, 0.0092, 0.0096]\n",
    "train_dict_R18_full['val acc'] = [0.9838, 0.9892, 0.9850, 0.9915, 0.9918,\n",
    "                                  0.9946, 0.9946, 0.9957, 0.9972, 0.9971, \n",
    "                                  0.9976, 0.9972, 0.9978, 0.9973, 0.9975]"
   ]
  },
  {
   "cell_type": "code",
   "execution_count": 182,
   "metadata": {},
   "outputs": [
    {
     "data": {
      "text/plain": [
       "<matplotlib.legend.Legend at 0x7eff3f824ac8>"
      ]
     },
     "execution_count": 182,
     "metadata": {},
     "output_type": "execute_result"
    },
    {
     "data": {
      "image/png": "[encoded data removed]",
      "text/plain": [
       "<Figure size 1440x360 with 3 Axes>"
      ]
     },
     "metadata": {
      "needs_background": "light"
     },
     "output_type": "display_data"
    }
   ],
   "source": [
    "fig, ax = plt.subplots(1, 3, figsize=(20,5))\n",
    "\n",
    "#  Loss\n",
    "ax[0].plot(train_dict_CNN[1]['Epoch'], train_dict_CNN[1]['Avg_Training_Loss'], \n",
    "           label='Avg_Training_Loss', linestyle='--')\n",
    "ax[0].plot(train_dict_CNN[1]['Epoch'],train_dict_CNN[1]['Validation_Loss'], \n",
    "           label='Validation_Loss', linestyle='--')\n",
    "ax[0].set_xlabel('Epoch')\n",
    "ax[0].set_ylabel('Loss')\n",
    "ax[0].set_title('Baseline CNN - train on 130k images')\n",
    "ax[0].legend()\n",
    "\n",
    "\n",
    "ax[1].plot(train_dict_R18_mini['epoch'], train_dict_R18_mini['train loss'], \n",
    "           label='Avg_Training_Loss', linestyle='--')\n",
    "ax[1].plot(train_dict_R18_mini['epoch'], train_dict_R18_mini['val loss'], \n",
    "           label='Validation_Loss', linestyle='--')\n",
    "ax[1].set_xlabel('Epoch')\n",
    "ax[1].set_ylabel('Loss')\n",
    "ax[1].set_title('ResNet18 - train on 10k images')\n",
    "ax[1].legend()\n",
    "\n",
    "\n",
    "ax[2].plot(train_dict_R18_full['epoch'], train_dict_R18_full['train loss'], \n",
    "           label='Avg_Training_Loss', linestyle='--')\n",
    "ax[2].plot(train_dict_R18_full['epoch'], train_dict_R18_full['val loss'], \n",
    "           label='Validation_Loss', linestyle='--')\n",
    "ax[2].set_xlabel('Epoch')\n",
    "ax[2].set_ylabel('Loss')\n",
    "ax[2].set_title('ResNet18 - train on 130k images')\n",
    "ax[2].legend()\n"
   ]
  },
  {
   "cell_type": "code",
   "execution_count": 192,
   "metadata": {},
   "outputs": [
    {
     "data": {
      "text/plain": [
       "<matplotlib.legend.Legend at 0x7eff3f448320>"
      ]
     },
     "execution_count": 192,
     "metadata": {},
     "output_type": "execute_result"
    },
    {
     "data": {
      "image/png": "[encoded data removed]",
      "text/plain": [
       "<Figure size 720x360 with 1 Axes>"
      ]
     },
     "metadata": {
      "needs_background": "light"
     },
     "output_type": "display_data"
    }
   ],
   "source": [
    "fig, ax = plt.subplots(figsize=(10,5))\n",
    "\n",
    "# Accuracy\n",
    "plt.plot(train_dict_CNN[1]['Epoch'], np.array(train_dict_CNN[1]['Validation_Accuracy'])/100, \n",
    "           label='Baseline CNN - train on 130k images', linestyle='--')\n",
    "plt.plot(train_dict_R18_mini['epoch'], train_dict_R18_mini['val acc'], \n",
    "           label='ResNet18 - train on 10k images', linestyle='--')\n",
    "plt.plot(train_dict_R18_full['epoch'], train_dict_R18_full['val acc'], \n",
    "           label='ResNet18 - train on 130k images', linestyle='--')\n",
    "\n",
    "plt.xlabel('Epochs')\n",
    "plt.ylabel('Accuracy')\n",
    "plt.title('Validation Accuracy')\n",
    "plt.legend()"
   ]
  }
 ],
 "metadata": {
  "kernelspec": {
   "display_name": "Python 3",
   "language": "python",
   "name": "python3"
  },
  "language_info": {
   "codemirror_mode": {
    "name": "ipython",
    "version": 3
   },
   "file_extension": ".py",
   "mimetype": "text/x-python",
   "name": "python",
   "nbconvert_exporter": "python",
   "pygments_lexer": "ipython3",
   "version": "3.6.10"
  }
 },
 "nbformat": 4,
 "nbformat_minor": 4
}
