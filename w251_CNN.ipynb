{
 "cells": [
  {
   "cell_type": "markdown",
   "metadata": {},
   "source": [
    "## Libraries"
   ]
  },
  {
   "cell_type": "code",
   "execution_count": 2,
   "metadata": {},
   "outputs": [],
   "source": [
    "# Import the data science stack\n",
    "import numpy as np\n",
    "import pandas as pd\n",
    "#import tensorflow as tf\n",
    "import pickle\n",
    "import time\n",
    "from collections import defaultdict\n",
    "\n",
    "from sklearn.utils import shuffle\n",
    "\n",
    "# Plotting\n",
    "import seaborn as sns\n",
    "import matplotlib.pyplot as plt\n",
    "%matplotlib inline\n",
    "\n",
    "# File system access\n",
    "import os\n",
    "\n",
    "# Image importing\n",
    "import csv\n",
    "import cv2\n",
    "\n",
    "# Tracking progress\n",
    "from tqdm import tqdm\n",
    "\n",
    "# Random seed\n",
    "np.random.seed(2021)\n",
    "\n",
    "#Sklearn\n",
    "from sklearn.utils.class_weight import compute_class_weight\n",
    "from sklearn.metrics import classification_report\n",
    "from sklearn.utils.class_weight import compute_class_weight\n",
    "from sklearn.metrics import roc_curve, roc_auc_score, precision_recall_curve"
   ]
  },
  {
   "cell_type": "code",
   "execution_count": 3,
   "metadata": {},
   "outputs": [],
   "source": [
    "#PyTorch\n",
    "import torch\n",
    "import torch.nn as nn\n",
    "from torch.nn import TransformerEncoder, TransformerEncoderLayer\n",
    "from torch.utils.data import TensorDataset, DataLoader, RandomSampler, SequentialSampler, WeightedRandomSampler\n",
    "import torch.nn.functional as F\n",
    "device = torch.device(\"cuda\")"
   ]
  },
  {
   "cell_type": "code",
   "execution_count": 25,
   "metadata": {},
   "outputs": [],
   "source": [
    "# directory for the numpy data files\n",
    "folder = '/home/ubuntu/numpy-files/'"
   ]
  },
  {
   "cell_type": "markdown",
   "metadata": {},
   "source": [
    "## Build Model Functions"
   ]
  },
  {
   "cell_type": "code",
   "execution_count": 9,
   "metadata": {},
   "outputs": [],
   "source": [
    "class CNN(nn.Module):\n",
    "    \n",
    "    def __init__(self,\n",
    "                 filter_sizes,\n",
    "                 num_filters,\n",
    "                 fc1_neurons,\n",
    "                 fc2_neurons):\n",
    "\n",
    "        super(CNN, self).__init__()\n",
    "\n",
    "        # Conv Network\n",
    "        self.conv2d_list = nn.ModuleList([\n",
    "            nn.Conv2d(in_channels=1,\n",
    "                      out_channels=num_filters[i],\n",
    "                      kernel_size=filter_sizes[i])\n",
    "            for i in range(len(filter_sizes))\n",
    "        ])\n",
    "        \n",
    "        # RELU activation function\n",
    "        self.relu =  nn.ReLU()   \n",
    "\n",
    "        # Fully-connected layers\n",
    "        self.fc1 = nn.Linear(np.sum(num_filters), fc1_neurons)  \n",
    "\n",
    "        if fc2_neurons != None:\n",
    "\n",
    "            # print('fc2=None')     \n",
    "                       \n",
    "            self.fc2 = nn.Linear(fc1_neurons, fc2_neurons)\n",
    "\n",
    "            self.fc3 = nn.Linear(fc2_neurons, 3)\n",
    "\n",
    "        else:\n",
    "                       \n",
    "            self.fc2 = nn.Linear(fc1_neurons, 3)\n",
    "                    \n",
    "        #softmax activation function\n",
    "        self.softmax = nn.LogSoftmax(dim=1)\n",
    "\n",
    "    def forward(self, inputs):\n",
    "\n",
    "        # Apply CNN and ReLU. \n",
    "        x_conv_list = [self.relu(conv2d(inputs)) for conv2d in self.conv2d_list]\n",
    "\n",
    "\n",
    "\n",
    "        # Max pooling. \n",
    "        x_pool_list = [F.max_pool2d(x_conv, kernel_size=x_conv.shape[2])\n",
    "            for x_conv in x_conv_list]\n",
    "        \n",
    "        # print(x_pool_list[0].shape)\n",
    "        # print(x_pool_list[0].squeeze(32).shape)\n",
    "        # print(x_pool_list[0].squeeze(3).shape)\n",
    "        # Concatenate x_pool_list to feed the fully connected layer.\n",
    "        x_fc = torch.cat([x_pool.squeeze(2).squeeze(2) for x_pool in x_pool_list],\n",
    "                         dim=1)\n",
    "\n",
    "        x = self.fc1(x_fc)              \n",
    "        x = self.relu(x)\n",
    "\n",
    "        x = self.fc2(x)\n",
    "\n",
    "        try:\n",
    "            if self.fc3 != None:\n",
    "            \n",
    "                x = self.relu(x)\n",
    "                x = self.fc3(x)\n",
    "\n",
    "        except:\n",
    "            pass\n",
    "\n",
    "        \n",
    "        probs = self.softmax(x) \n",
    "\n",
    "        return probs"
   ]
  },
  {
   "cell_type": "code",
   "execution_count": 10,
   "metadata": {},
   "outputs": [],
   "source": [
    "def train_CNN(model, optimizer, train_dataloader, epochs, run_number, \n",
    "          val_dataloader=None, save_run=None, return_progress_dict = None, hide_text = None):\n",
    "    \n",
    "    # Tracking lowest validation loss\n",
    "    lowest_val_loss = float('inf')\n",
    "    if return_progress_dict == 'Yes':\n",
    "        progress_dict = {run_number: {'Epoch':[], 'Avg_Training_Loss':[], 'Validation_Loss':[], 'Validation_Accuracy':[]} }\n",
    "\n",
    "    # Start training loop\n",
    "    if hide_text != \"Yes\":\n",
    "        print(\"Start training...\\n\")\n",
    "        print(f\"{'Epoch':^7} | {'Train Loss':^12} | {'Val Loss':^10} | {'Val Acc':^9} | {'Elapsed':^9}\")\n",
    "        print(\"-\"*60)\n",
    "\n",
    "    for epoch_i in range(epochs):\n",
    "        # =======================================\n",
    "        #               Training\n",
    "        # =======================================\n",
    "\n",
    "        # Tracking time and loss\n",
    "        t0_epoch = time.time()\n",
    "        total_loss = 0\n",
    "\n",
    "        # Put the model into the training mode\n",
    "        model.train()\n",
    "\n",
    "        for step, batch in enumerate(train_dataloader):\n",
    "            # Load batch to CPU\n",
    "            data, labels = tuple(t.to(device) for t in batch)\n",
    "\n",
    "            # Zero out any previously calculated gradients\n",
    "            optimizer.zero_grad()\n",
    "\n",
    "            # Perform a forward pass. This will return logits.\n",
    "            probs = model(data)\n",
    "\n",
    "            # Compute loss and accumulate the loss values\n",
    "            loss = cross_entropy(probs, labels)\n",
    "            \n",
    "            total_loss += loss.item()\n",
    "\n",
    "            # Perform a backward pass to calculate gradients\n",
    "            loss.backward()\n",
    "\n",
    "            # Update parameters\n",
    "            optimizer.step()\n",
    "\n",
    "        # Calculate the average loss over the entire training data\n",
    "        avg_train_loss = total_loss / len(train_dataloader)\n",
    "        if return_progress_dict == 'Yes':\n",
    "            progress_dict[run_number]['Avg_Training_Loss'].append(avg_train_loss)\n",
    "            progress_dict[run_number]['Epoch'].append(epoch_i)\n",
    "\n",
    "        # =======================================\n",
    "        #               Evaluation\n",
    "        # =======================================\n",
    "        if val_dataloader is not None:\n",
    "            # After the completion of each training epoch, measure the model's\n",
    "            # performance on our validation set.\n",
    "            val_loss, val_accuracy, _, _, _ = evaluate_CNN(model, val_dataloader)\n",
    "            if return_progress_dict == 'Yes':\n",
    "                progress_dict[run_number]['Validation_Loss'].append(val_loss)\n",
    "                progress_dict[run_number]['Validation_Accuracy'].append(val_accuracy)\n",
    "\n",
    "\n",
    "            # Track the lowese validation loss and save the weights of the model for that epoch\n",
    "            if val_loss < lowest_val_loss:\n",
    "                lowest_val_loss = val_loss\n",
    "                if save_run == 'Yes':\n",
    "                    torch.save(model.state_dict(), 'CNN_Weights_Run_'+str(run_number))\n",
    "\n",
    "            # Print performance over the entire training data\n",
    "            time_elapsed = time.time() - t0_epoch\n",
    "            if hide_text != \"Yes\":\n",
    "                print(f\"{epoch_i + 1:^7} | {avg_train_loss:^12.6f} | {val_loss:^10.6f} | {val_accuracy:^9.2f} | {time_elapsed:^9.2f}\")\n",
    "            \n",
    "    if save_run == 'Yes':\n",
    "          pickle.dump(progress_dict, open( 'trainig_dict_CNN_Run_'+str(run_number), \"wb\" ) )\n",
    "    \n",
    "    if hide_text != \"Yes\":         \n",
    "        print(\"\\n\")\n",
    "        print(f\"Training complete! Lowest Validation Loss: {lowest_val_loss:.2f}.\")\n",
    "    if return_progress_dict == 'Yes':\n",
    "        return progress_dict"
   ]
  },
  {
   "cell_type": "code",
   "execution_count": 11,
   "metadata": {},
   "outputs": [],
   "source": [
    "def evaluate_CNN(model, val_dataloader):\n",
    "    \"\"\"After the completion of each training epoch, measure the model's\n",
    "    performance on our validation set.\n",
    "    \"\"\"\n",
    "    # Put the model into the evaluation mode. The dropout layers are disabled\n",
    "    # during the test time.\n",
    "    model.eval()\n",
    "\n",
    "    # Tracking variables\n",
    "    val_accuracy = []\n",
    "    val_loss = []\n",
    "    total_probs = []\n",
    "    total_preds = []\n",
    "    total_labels = []\n",
    "\n",
    "    # For each batch in our validation set...\n",
    "    for batch in val_dataloader:\n",
    "        # Load batch to CPU\n",
    "        data, labels = tuple(t.to(device) for t in batch)\n",
    "\n",
    "        # Compute logits\n",
    "        with torch.no_grad():\n",
    "            probs = model(data)\n",
    "            \n",
    "        total_probs.append(probs)\n",
    "\n",
    "        # Compute loss\n",
    "        loss = cross_entropy(probs, labels)\n",
    "        val_loss.append(loss.item())\n",
    "\n",
    "        # Get the predictions\n",
    "        preds = torch.argmax(probs, dim=1).flatten()\n",
    "        total_preds.append(preds)\n",
    "        total_labels.append(labels)\n",
    "\n",
    "        # Calculate the accuracy rate\n",
    "        accuracy = (preds == labels).cpu().numpy().mean() * 100\n",
    "        val_accuracy.append(accuracy)\n",
    "\n",
    "    # Compute the average accuracy and loss over the validation set.\n",
    "    val_loss = np.mean(val_loss)\n",
    "    val_accuracy = np.mean(val_accuracy)\n",
    "\n",
    "    return val_loss, val_accuracy, total_probs, total_preds, total_labels"
   ]
  },
  {
   "cell_type": "code",
   "execution_count": 16,
   "metadata": {},
   "outputs": [
    {
     "name": "stderr",
     "output_type": "stream",
     "text": [
      "/home/ubuntu/anaconda3/envs/pytorch_latest_p36/lib/python3.6/site-packages/sklearn/utils/validation.py:71: FutureWarning: Pass classes=[0 1 2], y=[0 0 0 ... 2 2 0] as keyword args. From version 0.25 passing these as positional arguments will result in an error\n",
      "  FutureWarning)\n"
     ]
    }
   ],
   "source": [
    "# device = torch.device(\"cuda\")\n",
    "device = torch.device('cuda')\n",
    "pandas_list = []\n",
    "\n",
    "#computing class weights due to imbalanced dataset\n",
    "class_wts = compute_class_weight('balanced', np.unique(np.array(train_y_CNN)), np.array(train_y_CNN))\n",
    "class_wts = torch.tensor(class_wts,dtype=torch.float)\n",
    "class_wts = class_wts.to(device)\n",
    "\n",
    "# loss function\n",
    "cross_entropy = nn.CrossEntropyLoss(weight=class_wts)"
   ]
  },
  {
   "cell_type": "markdown",
   "metadata": {},
   "source": [
    "## Train"
   ]
  },
  {
   "cell_type": "markdown",
   "metadata": {},
   "source": [
    "Takes 2 minutes.  Note, the respective data files are loaded in their sections to prevent OOM."
   ]
  },
  {
   "cell_type": "code",
   "execution_count": null,
   "metadata": {},
   "outputs": [],
   "source": [
    "train_X = np.load(folder +'train_X.npy')\n",
    "train_y = np.load(folder +'train_y.npy')\n",
    "\n",
    "val_X = np.load(folder +'val_X.npy')\n",
    "val_y = np.load(folder +'val_y.npy')"
   ]
  },
  {
   "cell_type": "markdown",
   "metadata": {},
   "source": [
    "Convert to tensor, outputs 4D tensor."
   ]
  },
  {
   "cell_type": "code",
   "execution_count": null,
   "metadata": {},
   "outputs": [],
   "source": [
    "train_X = train_X.reshape(len(train_X), 1, 256, 256)\n",
    "val_X = val_X.reshape(len(val_X), 1, 256, 256)"
   ]
  },
  {
   "cell_type": "code",
   "execution_count": null,
   "metadata": {},
   "outputs": [],
   "source": [
    "# for train set\n",
    "train_seq_CNN = torch.from_numpy(train_X).float()\n",
    "train_y_CNN = torch.tensor(train_y).type(torch.LongTensor)"
   ]
  },
  {
   "cell_type": "code",
   "execution_count": null,
   "metadata": {},
   "outputs": [],
   "source": [
    "# for validation set\n",
    "val_seq_CNN = torch.from_numpy(val_X).float()\n",
    "val_y_CNN = torch.tensor(val_y).type(torch.LongTensor)"
   ]
  },
  {
   "cell_type": "code",
   "execution_count": null,
   "metadata": {},
   "outputs": [],
   "source": [
    "train_data_CNN = TensorDataset(train_seq_CNN, train_y_CNN)"
   ]
  },
  {
   "cell_type": "code",
   "execution_count": null,
   "metadata": {},
   "outputs": [],
   "source": [
    "val_data_CNN = TensorDataset(val_seq_CNN, val_y_CNN)"
   ]
  },
  {
   "cell_type": "code",
   "execution_count": null,
   "metadata": {},
   "outputs": [],
   "source": [
    "# confirm 4D tensor\n",
    "train_seq_CNN.shape"
   ]
  },
  {
   "cell_type": "markdown",
   "metadata": {},
   "source": [
    "Convert to TensorDataset and Create DataLoader"
   ]
  },
  {
   "cell_type": "code",
   "execution_count": null,
   "metadata": {},
   "outputs": [],
   "source": [
    "# Wrap tensors and create dataloaders\n",
    "# Creating a batch size of 150 in order to ensure at least one example of each class is included.\n",
    "batch_size = 150"
   ]
  },
  {
   "cell_type": "code",
   "execution_count": null,
   "metadata": {},
   "outputs": [],
   "source": [
    "train_sampler_CNN = RandomSampler(train_data_CNN)\n",
    "train_dataloader_CNN = DataLoader(train_data_CNN, sampler=train_sampler_CNN, batch_size=batch_size)"
   ]
  },
  {
   "cell_type": "code",
   "execution_count": null,
   "metadata": {},
   "outputs": [],
   "source": [
    "val_sampler_CNN = SequentialSampler(val_data_CNN)\n",
    "val_dataloader_CNN = DataLoader(val_data_CNN, sampler = val_sampler_CNN, batch_size=batch_size)"
   ]
  },
  {
   "cell_type": "markdown",
   "metadata": {},
   "source": [
    "Model"
   ]
  },
  {
   "cell_type": "code",
   "execution_count": 13,
   "metadata": {},
   "outputs": [],
   "source": [
    "#Model Initializiation\n",
    "CNN_Model = CNN(filter_sizes = [2, 3, 4], \n",
    "                num_filters = [25,25,25],\n",
    "                fc1_neurons = 100,\n",
    "                fc2_neurons = None\n",
    "                )\n",
    "\n",
    "# push the model to GPU\n",
    "CNN_Model = CNN_Model.to(device)"
   ]
  },
  {
   "cell_type": "code",
   "execution_count": 18,
   "metadata": {},
   "outputs": [],
   "source": [
    "optimizer = torch.optim.Adam(CNN_Model.parameters())\n",
    "epochs = 10\n",
    "run_number = 1"
   ]
  },
  {
   "cell_type": "markdown",
   "metadata": {},
   "source": [
    "Run training"
   ]
  },
  {
   "cell_type": "code",
   "execution_count": 19,
   "metadata": {},
   "outputs": [
    {
     "name": "stdout",
     "output_type": "stream",
     "text": [
      "Start training...\n",
      "\n",
      " Epoch  |  Train Loss  |  Val Loss  |  Val Acc  |  Elapsed \n",
      "------------------------------------------------------------\n",
      "   1    |   1.064522   |  0.749249  |   71.83   |  190.76  \n",
      "   2    |   0.608320   |  0.564486  |   79.12   |  189.97  \n",
      "   3    |   0.512271   |  0.438028  |   83.67   |  190.03  \n",
      "   4    |   0.437364   |  0.397039  |   85.02   |  190.15  \n",
      "   5    |   0.396910   |  0.422978  |   85.32   |  190.20  \n",
      "   6    |   0.373232   |  0.390021  |   87.67   |  190.17  \n",
      "   7    |   0.341190   |  0.383402  |   87.93   |  190.15  \n",
      "   8    |   0.331488   |  0.306710  |   89.19   |  190.03  \n",
      "   9    |   0.318043   |  0.340878  |   88.06   |  189.98  \n",
      "  10    |   0.301804   |  0.334300  |   88.96   |  190.08  \n",
      "\n",
      "\n",
      "Training complete! Lowest Validation Loss: 0.31.\n"
     ]
    }
   ],
   "source": [
    "Training_Dict = train_CNN(model = CNN_Model, \n",
    "                  optimizer = optimizer, \n",
    "                  train_dataloader = train_dataloader_CNN, \n",
    "                  epochs = epochs,\n",
    "                  run_number = run_number,\n",
    "                  val_dataloader = val_dataloader_CNN,\n",
    "                  save_run = 'Yes',\n",
    "                  return_progress_dict = 'Yes',\n",
    "                  hide_text = 'No')"
   ]
  },
  {
   "cell_type": "code",
   "execution_count": 21,
   "metadata": {},
   "outputs": [
    {
     "data": {
      "image/png": "[encoded data removed]",
      "text/plain": [
       "<Figure size 1440x720 with 2 Axes>"
      ]
     },
     "metadata": {
      "needs_background": "light"
     },
     "output_type": "display_data"
    }
   ],
   "source": [
    "#Graph Option 2\n",
    "#Plotting Validation Loss With Respect to Training Epochs\n",
    "from matplotlib.ticker import PercentFormatter\n",
    "\n",
    "\n",
    "font = {'family' : 'DejaVu Sans',\n",
    "        'weight' : 'bold',\n",
    "        'size'   : 12}\n",
    "\n",
    "plt.rc('font', **font)\n",
    "\n",
    "fig, (ax1, ax2) = plt.subplots(1,2)\n",
    "\n",
    "epoch_list = Training_Dict[1]['Epoch']\n",
    "Avg_Training_Loss_List = Training_Dict[1]['Avg_Training_Loss']\n",
    "Validation_Loss_List = Training_Dict[1]['Validation_Loss']\n",
    "Validation_Accuracy_List = Training_Dict[1]['Validation_Accuracy']\n",
    "\n",
    "epoch_list_adj = [x+1 for x in epoch_list]\n",
    "\n",
    "fig.set_figheight(10)\n",
    "fig.set_figwidth(20)\n",
    "\n",
    "ax1.plot(epoch_list_adj, Validation_Loss_List, linestyle='--',  label='Validation Loss')\n",
    "ax1.plot(epoch_list_adj, Avg_Training_Loss_List, linestyle='--',  label='Training Loss')\n",
    "ax1.set_ylabel('Loss', size = 15)\n",
    "ax1.set_xlabel('Epoch', size = 15)\n",
    "ax1.set_xticks(epoch_list_adj)\n",
    "ax1.set_title('Loss Over Epochs')\n",
    "ax1.legend()\n",
    "\n",
    "ax2.plot(epoch_list_adj, Validation_Accuracy_List, linestyle='--',  label='Validation Accuracy', color='green')\n",
    "ax2.set_ylabel('Validation Accuracy', size = 15)\n",
    "ax2.set_xlabel('Epoch', size = 15)\n",
    "ax2.set_xticks(epoch_list_adj)\n",
    "ax2.yaxis.set_major_formatter(PercentFormatter(decimals=0))\n",
    "ax2.set_title('Validation Accuracy Over Epochs')\n",
    "ax2.legend()\n",
    "\n",
    "plt.show()"
   ]
  },
  {
   "cell_type": "markdown",
   "metadata": {},
   "source": [
    "## Test"
   ]
  },
  {
   "cell_type": "markdown",
   "metadata": {},
   "source": [
    "Load test files to dataloader"
   ]
  },
  {
   "cell_type": "code",
   "execution_count": 22,
   "metadata": {},
   "outputs": [],
   "source": [
    "test_X = np.load(folder +'test_X.npy')\n",
    "test_y = np.load(folder +'test_y.npy')"
   ]
  },
  {
   "cell_type": "code",
   "execution_count": 23,
   "metadata": {},
   "outputs": [],
   "source": [
    "test_X = test_X.reshape(len(test_X), 1, 256, 256)"
   ]
  },
  {
   "cell_type": "code",
   "execution_count": 24,
   "metadata": {},
   "outputs": [],
   "source": [
    "test_seq_CNN = torch.from_numpy(test_X).float()\n",
    "test_y_CNN = torch.tensor(test_y).type(torch.LongTensor)"
   ]
  },
  {
   "cell_type": "code",
   "execution_count": 25,
   "metadata": {},
   "outputs": [],
   "source": [
    "test_data_CNN = TensorDataset(test_seq_CNN, test_y_CNN)\n",
    "test_sampler_CNN = RandomSampler(test_data_CNN)\n",
    "test_dataloader_CNN = DataLoader(test_data_CNN, sampler=test_sampler_CNN, batch_size=batch_size)"
   ]
  },
  {
   "cell_type": "markdown",
   "metadata": {},
   "source": [
    "Perform evaluation"
   ]
  },
  {
   "cell_type": "code",
   "execution_count": 27,
   "metadata": {},
   "outputs": [
    {
     "data": {
      "text/plain": [
       "<All keys matched successfully>"
      ]
     },
     "execution_count": 27,
     "metadata": {},
     "output_type": "execute_result"
    }
   ],
   "source": [
    "#load weights of best model\n",
    "CNN_Model.load_state_dict(torch.load('CNN_Weights_Run_1'))"
   ]
  },
  {
   "cell_type": "code",
   "execution_count": 28,
   "metadata": {},
   "outputs": [],
   "source": [
    "# run prediction and evaluation\n",
    "test_loss_CNN, test_accuracy_CNN, \\\n",
    "total_probs_CNN, total_preds_CNN, \\\n",
    "total_labels_CNN = evaluate_CNN(model = CNN_Model, \n",
    "                                val_dataloader = test_dataloader_CNN)"
   ]
  },
  {
   "cell_type": "code",
   "execution_count": 29,
   "metadata": {},
   "outputs": [],
   "source": [
    "# \n",
    "total_labels_CNN_Cat = torch.cat(total_labels_CNN).cpu().numpy()\n",
    "total_probs_CNN_Cat = torch.cat(total_probs_CNN).cpu().numpy()\n",
    "total_preds_CNN_Cat = torch.cat(total_preds_CNN).cpu().numpy()"
   ]
  },
  {
   "cell_type": "code",
   "execution_count": 30,
   "metadata": {},
   "outputs": [
    {
     "name": "stdout",
     "output_type": "stream",
     "text": [
      "Test Loss: 0.3020561410830571\n",
      "Test Accuracy: 89.1660527266161\n",
      "\n",
      "\n",
      "              precision    recall  f1-score   support\n",
      "\n",
      "           0       0.87      0.85      0.86      6032\n",
      "           1       0.80      0.88      0.84      4027\n",
      "           2       0.95      0.93      0.94      9433\n",
      "\n",
      "    accuracy                           0.89     19492\n",
      "   macro avg       0.87      0.88      0.88     19492\n",
      "weighted avg       0.89      0.89      0.89     19492\n",
      "\n"
     ]
    }
   ],
   "source": [
    "print('Test Loss:', test_loss_CNN)\n",
    "print('Test Accuracy:', test_accuracy_CNN)\n",
    "print('\\n')\n",
    "print(classification_report(total_labels_CNN_Cat, total_preds_CNN_Cat))"
   ]
  },
  {
   "cell_type": "markdown",
   "metadata": {},
   "source": [
    "## Hyperparameter Tuning"
   ]
  },
  {
   "cell_type": "markdown",
   "metadata": {},
   "source": [
    "Note: may encounter OOM.  Hyperparameter tuning part might need to be run separately from training on fresh kernel.\n",
    "\n",
    "Load in hyperparameter dataset"
   ]
  },
  {
   "cell_type": "code",
   "execution_count": 26,
   "metadata": {},
   "outputs": [],
   "source": [
    "hyper_X = np.load(folder + 'hyper_X.npy')\n",
    "hyper_y = np.load(folder + 'hyper_y.npy')"
   ]
  },
  {
   "cell_type": "code",
   "execution_count": 5,
   "metadata": {},
   "outputs": [],
   "source": [
    "hyper_X = hyper_X.reshape(len(hyper_X), 1, 256, 256)"
   ]
  },
  {
   "cell_type": "code",
   "execution_count": 6,
   "metadata": {},
   "outputs": [],
   "source": [
    "hyper_seq_CNN = torch.from_numpy(hyper_X).float()\n",
    "hyper_y_CNN = torch.tensor(hyper_y).type(torch.LongTensor)"
   ]
  },
  {
   "cell_type": "code",
   "execution_count": 8,
   "metadata": {},
   "outputs": [],
   "source": [
    "batch_size = 150\n",
    "hyper_data_CNN = TensorDataset(hyper_seq_CNN, hyper_y_CNN)\n",
    "hyper_sampler_CNN = RandomSampler(hyper_data_CNN)\n",
    "hyper_dataloader_CNN = DataLoader(hyper_data_CNN, sampler=hyper_sampler_CNN, batch_size=batch_size)"
   ]
  },
  {
   "cell_type": "markdown",
   "metadata": {},
   "source": [
    "Load in validation dataset"
   ]
  },
  {
   "cell_type": "code",
   "execution_count": null,
   "metadata": {},
   "outputs": [],
   "source": [
    "val_X = np.load(folder +'val_X.npy')\n",
    "val_y = np.load(folder +'val_y.npy')"
   ]
  },
  {
   "cell_type": "code",
   "execution_count": null,
   "metadata": {},
   "outputs": [],
   "source": [
    "val_X = val_X.reshape(len(val_X), 1, 256, 256)"
   ]
  },
  {
   "cell_type": "code",
   "execution_count": null,
   "metadata": {},
   "outputs": [],
   "source": [
    "val_seq_CNN = torch.from_numpy(val_X).float()\n",
    "val_y_CNN = torch.tensor(val_y).type(torch.LongTensor)"
   ]
  },
  {
   "cell_type": "code",
   "execution_count": null,
   "metadata": {},
   "outputs": [],
   "source": [
    "val_data_CNN = TensorDataset(val_seq_CNN, val_y_CNN)\n",
    "val_sampler_CNN = SequentialSampler(val_data_CNN)\n",
    "val_dataloader_CNN = DataLoader(val_data_CNN, sampler = val_sampler_CNN, batch_size=batch_size)"
   ]
  },
  {
   "cell_type": "markdown",
   "metadata": {},
   "source": [
    "Model"
   ]
  },
  {
   "cell_type": "code",
   "execution_count": null,
   "metadata": {},
   "outputs": [],
   "source": [
    "#Model Initializiation\n",
    "CNN_Model = CNN(filter_sizes = [2, 3, 4], \n",
    "                num_filters = [25,25,25],\n",
    "                fc1_neurons = 100,\n",
    "                fc2_neurons = None\n",
    "                )\n",
    "\n",
    "# push the model to GPU\n",
    "CNN_Model = CNN_Model.to(device)"
   ]
  },
  {
   "cell_type": "markdown",
   "metadata": {},
   "source": [
    "Scan hyperparameters"
   ]
  },
  {
   "cell_type": "code",
   "execution_count": 21,
   "metadata": {},
   "outputs": [
    {
     "name": "stdout",
     "output_type": "stream",
     "text": [
      "1 of 72 Iterations Complete.\n",
      "2 of 72 Iterations Complete.\n",
      "3 of 72 Iterations Complete.\n",
      "4 of 72 Iterations Complete.\n",
      "5 of 72 Iterations Complete.\n",
      "6 of 72 Iterations Complete.\n"
     ]
    },
    {
     "ename": "KeyboardInterrupt",
     "evalue": "",
     "output_type": "error",
     "traceback": [
      "\u001b[0;31m---------------------------------------------------------------------------\u001b[0m",
      "\u001b[0;31mKeyboardInterrupt\u001b[0m                         Traceback (most recent call last)",
      "\u001b[0;32m<ipython-input-21-c3c5ecfbebfc>\u001b[0m in \u001b[0;36m<module>\u001b[0;34m\u001b[0m\n\u001b[1;32m     66\u001b[0m                                               \u001b[0msave_run\u001b[0m \u001b[0;34m=\u001b[0m \u001b[0;34m'No'\u001b[0m\u001b[0;34m,\u001b[0m\u001b[0;34m\u001b[0m\u001b[0;34m\u001b[0m\u001b[0m\n\u001b[1;32m     67\u001b[0m                                               \u001b[0mreturn_progress_dict\u001b[0m \u001b[0;34m=\u001b[0m \u001b[0;34m'Yes'\u001b[0m\u001b[0;34m,\u001b[0m\u001b[0;34m\u001b[0m\u001b[0;34m\u001b[0m\u001b[0m\n\u001b[0;32m---> 68\u001b[0;31m                                               hide_text = 'Yes')\n\u001b[0m\u001b[1;32m     69\u001b[0m \u001b[0;34m\u001b[0m\u001b[0m\n\u001b[1;32m     70\u001b[0m                     \u001b[0;32mfor\u001b[0m \u001b[0mo\u001b[0m \u001b[0;32min\u001b[0m \u001b[0mrange\u001b[0m\u001b[0;34m(\u001b[0m\u001b[0mepochs\u001b[0m\u001b[0;34m)\u001b[0m\u001b[0;34m:\u001b[0m\u001b[0;34m\u001b[0m\u001b[0;34m\u001b[0m\u001b[0m\n",
      "\u001b[0;32m<ipython-input-10-c5cc8b470eb0>\u001b[0m in \u001b[0;36mtrain_CNN\u001b[0;34m(model, optimizer, train_dataloader, epochs, run_number, val_dataloader, save_run, return_progress_dict, hide_text)\u001b[0m\n\u001b[1;32m     58\u001b[0m             \u001b[0;31m# After the completion of each training epoch, measure the model's\u001b[0m\u001b[0;34m\u001b[0m\u001b[0;34m\u001b[0m\u001b[0;34m\u001b[0m\u001b[0m\n\u001b[1;32m     59\u001b[0m             \u001b[0;31m# performance on our validation set.\u001b[0m\u001b[0;34m\u001b[0m\u001b[0;34m\u001b[0m\u001b[0;34m\u001b[0m\u001b[0m\n\u001b[0;32m---> 60\u001b[0;31m             \u001b[0mval_loss\u001b[0m\u001b[0;34m,\u001b[0m \u001b[0mval_accuracy\u001b[0m\u001b[0;34m,\u001b[0m \u001b[0m_\u001b[0m\u001b[0;34m,\u001b[0m \u001b[0m_\u001b[0m\u001b[0;34m,\u001b[0m \u001b[0m_\u001b[0m \u001b[0;34m=\u001b[0m \u001b[0mevaluate_CNN\u001b[0m\u001b[0;34m(\u001b[0m\u001b[0mmodel\u001b[0m\u001b[0;34m,\u001b[0m \u001b[0mval_dataloader\u001b[0m\u001b[0;34m)\u001b[0m\u001b[0;34m\u001b[0m\u001b[0;34m\u001b[0m\u001b[0m\n\u001b[0m\u001b[1;32m     61\u001b[0m             \u001b[0;32mif\u001b[0m \u001b[0mreturn_progress_dict\u001b[0m \u001b[0;34m==\u001b[0m \u001b[0;34m'Yes'\u001b[0m\u001b[0;34m:\u001b[0m\u001b[0;34m\u001b[0m\u001b[0;34m\u001b[0m\u001b[0m\n\u001b[1;32m     62\u001b[0m                 \u001b[0mprogress_dict\u001b[0m\u001b[0;34m[\u001b[0m\u001b[0mrun_number\u001b[0m\u001b[0;34m]\u001b[0m\u001b[0;34m[\u001b[0m\u001b[0;34m'Validation_Loss'\u001b[0m\u001b[0;34m]\u001b[0m\u001b[0;34m.\u001b[0m\u001b[0mappend\u001b[0m\u001b[0;34m(\u001b[0m\u001b[0mval_loss\u001b[0m\u001b[0;34m)\u001b[0m\u001b[0;34m\u001b[0m\u001b[0;34m\u001b[0m\u001b[0m\n",
      "\u001b[0;32m<ipython-input-11-2d2f0a74061d>\u001b[0m in \u001b[0;36mevaluate_CNN\u001b[0;34m(model, val_dataloader)\u001b[0m\n\u001b[1;32m     27\u001b[0m         \u001b[0;31m# Compute loss\u001b[0m\u001b[0;34m\u001b[0m\u001b[0;34m\u001b[0m\u001b[0;34m\u001b[0m\u001b[0m\n\u001b[1;32m     28\u001b[0m         \u001b[0mloss\u001b[0m \u001b[0;34m=\u001b[0m \u001b[0mcross_entropy\u001b[0m\u001b[0;34m(\u001b[0m\u001b[0mprobs\u001b[0m\u001b[0;34m,\u001b[0m \u001b[0mlabels\u001b[0m\u001b[0;34m)\u001b[0m\u001b[0;34m\u001b[0m\u001b[0;34m\u001b[0m\u001b[0m\n\u001b[0;32m---> 29\u001b[0;31m         \u001b[0mval_loss\u001b[0m\u001b[0;34m.\u001b[0m\u001b[0mappend\u001b[0m\u001b[0;34m(\u001b[0m\u001b[0mloss\u001b[0m\u001b[0;34m.\u001b[0m\u001b[0mitem\u001b[0m\u001b[0;34m(\u001b[0m\u001b[0;34m)\u001b[0m\u001b[0;34m)\u001b[0m\u001b[0;34m\u001b[0m\u001b[0;34m\u001b[0m\u001b[0m\n\u001b[0m\u001b[1;32m     30\u001b[0m \u001b[0;34m\u001b[0m\u001b[0m\n\u001b[1;32m     31\u001b[0m         \u001b[0;31m# Get the predictions\u001b[0m\u001b[0;34m\u001b[0m\u001b[0;34m\u001b[0m\u001b[0;34m\u001b[0m\u001b[0m\n",
      "\u001b[0;31mKeyboardInterrupt\u001b[0m: "
     ]
    }
   ],
   "source": [
    "device = torch.device(\"cuda\")\n",
    "\n",
    "pandas_list = []\n",
    "\n",
    "#computing class weights due to imbalanced dataset\n",
    "class_wts = compute_class_weight('balanced', np.unique(np.array(hyper_y_CNN)), np.array(hyper_y_CNN))\n",
    "class_wts = torch.tensor(class_wts,dtype=torch.float)\n",
    "class_wts = class_wts.to(device)\n",
    "\n",
    "# loss function\n",
    "cross_entropy = nn.CrossEntropyLoss(weight=class_wts)\n",
    "\n",
    "HYPERPARAMETER_SELECTION = 0\n",
    "\n",
    "\n",
    "#Hyperparameters for Tuning\n",
    "filter_sizes=[[2, 3, 4], [3, 4, 5]]\n",
    "num_filters= [25, 50, 100]\n",
    "fc1_neurons = [200, 500]\n",
    "fc2_neurons = [None, 50, 100]\n",
    "# dropout = [0.4, 0.5]\n",
    "optimizer_list = ['Adam','RMSprop']\n",
    "\n",
    "num_iterations = len(filter_sizes)*len(num_filters)*len(fc1_neurons)*len(fc2_neurons)*len(optimizer_list)\n",
    "\n",
    "\n",
    "for i in filter_sizes:\n",
    "    for j in num_filters:\n",
    "        j = [j] * len(i)\n",
    "        for k in fc1_neurons:\n",
    "            for l in fc2_neurons:         \n",
    "                for n in optimizer_list:           \n",
    "                # for n in range(len(optimizer_list)):\n",
    "                #     q = optimizer_list[n]\n",
    "                #     if q == 0:\n",
    "                #         Optimizer_Name = 'Adam'\n",
    "                #     else:\n",
    "                #         Optimizer_Name = 'RMSprop'\n",
    "                    #Model Initializiation\n",
    "                    Hyper_CNN_Model = CNN(filter_sizes = i, \n",
    "                                    num_filters = j, \n",
    "                                    fc1_neurons = k, \n",
    "                                    fc2_neurons = l, \n",
    "                                    # dropout = m\n",
    "                                    )\n",
    "\n",
    "                    # push the model to CPU\n",
    "                    device = torch.device('cuda')\n",
    "                    Hyper_CNN_Model = CNN_Model.to(device)\n",
    "\n",
    "                    # define the optimizer\n",
    "                    if n == 'Adam':\n",
    "                        optimizer = torch.optim.Adam(Hyper_CNN_Model.parameters())\n",
    "                    else:\n",
    "                        optimizer = torch.optim.RMSprop(Hyper_CNN_Model.parameters())\n",
    "                    \n",
    "                    epochs = 2\n",
    "                    run_number = 1\n",
    "\n",
    "                    training_dict = train_CNN(model = Hyper_CNN_Model, \n",
    "                                              optimizer = optimizer, \n",
    "                                              train_dataloader = hyper_dataloader_CNN, \n",
    "                                              epochs = epochs,\n",
    "                                              run_number = run_number,\n",
    "                                              val_dataloader=val_dataloader_CNN,\n",
    "                                              save_run = 'No',\n",
    "                                              return_progress_dict = 'Yes',\n",
    "                                              hide_text = 'Yes')\n",
    "                    \n",
    "                    for o in range(epochs):\n",
    "                        EPOCH = training_dict[run_number]['Epoch'][o]\n",
    "                        AVERAGE_TRAINING_LOSS = training_dict[run_number]['Avg_Training_Loss'][o]\n",
    "                        VALIDATION_LOSS = training_dict[run_number]['Validation_Loss'][o]\n",
    "                        VALIDATION_ACCURACY = training_dict[run_number]['Validation_Accuracy'][o]\n",
    "                        \n",
    "                        pandas_list.append([HYPERPARAMETER_SELECTION,\n",
    "                                            EPOCH,\n",
    "                                            i,\n",
    "                                            j,\n",
    "                                            k,\n",
    "                                            l,\n",
    "                                            # n,\n",
    "                                            n,\n",
    "                                            AVERAGE_TRAINING_LOSS,\n",
    "                                            VALIDATION_LOSS,\n",
    "                                            VALIDATION_ACCURACY,\n",
    "                                            ])\n",
    "                        \n",
    "                    HYPERPARAMETER_SELECTION += 1\n",
    "                    \n",
    "                    print(HYPERPARAMETER_SELECTION,'of',num_iterations,'Iterations Complete.' )\n",
    "\n",
    "summary_CNN = pd.DataFrame(pandas_list, columns = ['HYPERPARAMETER SELECTION',\n",
    "                                               'EPOCH',\n",
    "                                               'KERNEL SIZES',\n",
    "                                               'NUMBER OF FILTERS',\n",
    "                                               'FIRST HIDDEN LAYER DIMENSIONS',\n",
    "                                               'SECOND HIDDEN LAYER DIMENSION',\n",
    "                                              #  'DROPOUT',\n",
    "                                               'OPTIMIZER',\n",
    "                                               'AVERAGE TRAINING LOSS',\n",
    "                                               'VALIDATION LOSS',\n",
    "                                               'VALIDATION ACCURACY'\n",
    "                                              ]).sort_values('VALIDATION LOSS')\n"
   ]
  },
  {
   "cell_type": "markdown",
   "metadata": {},
   "source": [
    "## Inference"
   ]
  },
  {
   "cell_type": "code",
   "execution_count": null,
   "metadata": {},
   "outputs": [],
   "source": [
    "def predict_CNN(model, image):\n",
    "  \n",
    "    \"\"\"After the completion of each training epoch, measure the model's\n",
    "    performance on our validation set.\n",
    "    \"\"\"\n",
    "    # Put the model into the evaluation mode. The dropout layers are disabled\n",
    "    # during the test time.\n",
    "    model.eval()\n",
    "\n",
    "    image_reshaped = torch.from_numpy(image.reshape(1,1,256,256)).float().cuda()\n",
    "\n",
    "    # Compute logits\n",
    "    with torch.no_grad():\n",
    "        probs = model(image_reshaped)\n",
    "            \n",
    "        # Get the predictions\n",
    "        prediction = torch.argmax(probs, dim=1).flatten()\n",
    "\n",
    "    if prediction == 0:\n",
    "        prediction_label = 'Diagnosis: Normal'\n",
    "    elif prediction == 1:\n",
    "        prediction_label = 'Diagnosis: Pneumonia'\n",
    "    else:\n",
    "        prediction_label = 'Diagnosis: COVID-19'\n",
    "\n",
    "    print(prediction_label, '; Probability of Diagnosis:', np.exp(probs[0][prediction][0].cpu().item()) )"
   ]
  },
  {
   "cell_type": "code",
   "execution_count": null,
   "metadata": {},
   "outputs": [],
   "source": []
  },
  {
   "cell_type": "code",
   "execution_count": null,
   "metadata": {},
   "outputs": [],
   "source": []
  }
 ],
 "metadata": {
  "kernelspec": {
   "display_name": "Python 3",
   "language": "python",
   "name": "python3"
  },
  "language_info": {
   "codemirror_mode": {
    "name": "ipython",
    "version": 3
   },
   "file_extension": ".py",
   "mimetype": "text/x-python",
   "name": "python",
   "nbconvert_exporter": "python",
   "pygments_lexer": "ipython3",
   "version": "3.6.10"
  }
 },
 "nbformat": 4,
 "nbformat_minor": 4
}
